{
  "cells": [
    {
      "cell_type": "code",
      "execution_count": 1,
      "metadata": {
        "id": "vO--QSU55fAZ"
      },
      "outputs": [
        {
          "name": "stderr",
          "output_type": "stream",
          "text": [
            "c:\\Users\\petka\\AppData\\Local\\Programs\\Python\\Python39\\lib\\site-packages\\scipy\\__init__.py:155: UserWarning: A NumPy version >=1.18.5 and <1.25.0 is required for this version of SciPy (detected version 1.26.0\n",
            "  warnings.warn(f\"A NumPy version >={np_minversion} and <{np_maxversion}\"\n"
          ]
        }
      ],
      "source": [
        "from sklearn.model_selection import train_test_split\n",
        "import pandas as pd\n",
        "import numpy as np\n",
        "import matplotlib.pyplot as plt\n",
        "import plotly.express as px\n",
        "import nltk\n",
        "import re\n",
        "import string\n",
        "import warnings\n",
        "# from google.colab import drive"
      ]
    },
    {
      "cell_type": "code",
      "execution_count": 2,
      "metadata": {
        "colab": {
          "base_uri": "https://localhost:8080/"
        },
        "id": "Fsyscn9h5fja",
        "outputId": "b4a3d827-8447-4f1e-b41f-90f0b725afbe"
      },
      "outputs": [],
      "source": [
        "warnings.filterwarnings(action='ignore')\n",
        "# drive.mount('/content/drive')"
      ]
    },
    {
      "cell_type": "code",
      "execution_count": 3,
      "metadata": {
        "colab": {
          "base_uri": "https://localhost:8080/",
          "height": 519
        },
        "id": "kqlNEXEW5fmR",
        "outputId": "b70f65c9-3214-4891-e641-51fcd6d58d2f"
      },
      "outputs": [
        {
          "data": {
            "text/html": [
              "<div>\n",
              "<style scoped>\n",
              "    .dataframe tbody tr th:only-of-type {\n",
              "        vertical-align: middle;\n",
              "    }\n",
              "\n",
              "    .dataframe tbody tr th {\n",
              "        vertical-align: top;\n",
              "    }\n",
              "\n",
              "    .dataframe thead th {\n",
              "        text-align: right;\n",
              "    }\n",
              "</style>\n",
              "<table border=\"1\" class=\"dataframe\">\n",
              "  <thead>\n",
              "    <tr style=\"text-align: right;\">\n",
              "      <th></th>\n",
              "      <th>work_name</th>\n",
              "      <th>generalized_work_class</th>\n",
              "      <th>global_work_class</th>\n",
              "      <th>upper_works</th>\n",
              "    </tr>\n",
              "  </thead>\n",
              "  <tbody>\n",
              "    <tr>\n",
              "      <th>0</th>\n",
              "      <td>монтаж ограждения основания блоков управления са</td>\n",
              "      <td>NaN</td>\n",
              "      <td>NaN</td>\n",
              "      <td>NaN</td>\n",
              "    </tr>\n",
              "    <tr>\n",
              "      <th>1</th>\n",
              "      <td>монтаж стоек</td>\n",
              "      <td>NaN</td>\n",
              "      <td>NaN</td>\n",
              "      <td>('Подготовка свай', 'Монтаж ограждения')</td>\n",
              "    </tr>\n",
              "    <tr>\n",
              "      <th>2</th>\n",
              "      <td>монтаж трубопровода г16/1 газ с предохранитель...</td>\n",
              "      <td>NaN</td>\n",
              "      <td>NaN</td>\n",
              "      <td>NaN</td>\n",
              "    </tr>\n",
              "    <tr>\n",
              "      <th>3</th>\n",
              "      <td>монтад лестниц</td>\n",
              "      <td>Монтаж лестниц</td>\n",
              "      <td>Строительство зданий</td>\n",
              "      <td>NaN</td>\n",
              "    </tr>\n",
              "    <tr>\n",
              "      <th>4</th>\n",
              "      <td>монтаж площадок</td>\n",
              "      <td>NaN</td>\n",
              "      <td>NaN</td>\n",
              "      <td>NaN</td>\n",
              "    </tr>\n",
              "    <tr>\n",
              "      <th>5</th>\n",
              "      <td>технологическая обвязка рессиверов газа v-25м3...</td>\n",
              "      <td>NaN</td>\n",
              "      <td>NaN</td>\n",
              "      <td>NaN</td>\n",
              "    </tr>\n",
              "    <tr>\n",
              "      <th>6</th>\n",
              "      <td>электромонтажные работы</td>\n",
              "      <td>NaN</td>\n",
              "      <td>NaN</td>\n",
              "      <td>NaN</td>\n",
              "    </tr>\n",
              "    <tr>\n",
              "      <th>7</th>\n",
              "      <td>кипиа</td>\n",
              "      <td>Монтаж приборов</td>\n",
              "      <td>Монтаж</td>\n",
              "      <td>NaN</td>\n",
              "    </tr>\n",
              "    <tr>\n",
              "      <th>8</th>\n",
              "      <td>монтаж маслоприемников 1.6.2</td>\n",
              "      <td>NaN</td>\n",
              "      <td>NaN</td>\n",
              "      <td>NaN</td>\n",
              "    </tr>\n",
              "    <tr>\n",
              "      <th>9</th>\n",
              "      <td>электромонтажные работы 1.4.2</td>\n",
              "      <td>ПНР</td>\n",
              "      <td>ПНР</td>\n",
              "      <td>NaN</td>\n",
              "    </tr>\n",
              "    <tr>\n",
              "      <th>10</th>\n",
              "      <td>погружение свай св3 (108х6х5590)</td>\n",
              "      <td>Погружение свай</td>\n",
              "      <td>Монтаж свай</td>\n",
              "      <td>NaN</td>\n",
              "    </tr>\n",
              "    <tr>\n",
              "      <th>11</th>\n",
              "      <td>монтаж площадок</td>\n",
              "      <td>NaN</td>\n",
              "      <td>NaN</td>\n",
              "      <td>NaN</td>\n",
              "    </tr>\n",
              "    <tr>\n",
              "      <th>12</th>\n",
              "      <td>монтаж системы вк</td>\n",
              "      <td>Испытания системы водоснабжения</td>\n",
              "      <td>Испытания систем</td>\n",
              "      <td>NaN</td>\n",
              "    </tr>\n",
              "    <tr>\n",
              "      <th>13</th>\n",
              "      <td>монтаж стоек</td>\n",
              "      <td>Монтаж мк</td>\n",
              "      <td>Монтаж мк</td>\n",
              "      <td>('Подготовка свай', 'Монтаж ограждения')</td>\n",
              "    </tr>\n",
              "    <tr>\n",
              "      <th>14</th>\n",
              "      <td>монтаж балок</td>\n",
              "      <td>NaN</td>\n",
              "      <td>NaN</td>\n",
              "      <td>NaN</td>\n",
              "    </tr>\n",
              "  </tbody>\n",
              "</table>\n",
              "</div>"
            ],
            "text/plain": [
              "                                            work_name  \\\n",
              "0    монтаж ограждения основания блоков управления са   \n",
              "1                                        монтаж стоек   \n",
              "2   монтаж трубопровода г16/1 газ с предохранитель...   \n",
              "3                                      монтад лестниц   \n",
              "4                                     монтаж площадок   \n",
              "5   технологическая обвязка рессиверов газа v-25м3...   \n",
              "6                             электромонтажные работы   \n",
              "7                                               кипиа   \n",
              "8                        монтаж маслоприемников 1.6.2   \n",
              "9                       электромонтажные работы 1.4.2   \n",
              "10                   погружение свай св3 (108х6х5590)   \n",
              "11                                    монтаж площадок   \n",
              "12                                  монтаж системы вк   \n",
              "13                                       монтаж стоек   \n",
              "14                                       монтаж балок   \n",
              "\n",
              "             generalized_work_class     global_work_class  \\\n",
              "0                               NaN                   NaN   \n",
              "1                               NaN                   NaN   \n",
              "2                               NaN                   NaN   \n",
              "3                    Монтаж лестниц  Строительство зданий   \n",
              "4                               NaN                   NaN   \n",
              "5                               NaN                   NaN   \n",
              "6                               NaN                   NaN   \n",
              "7                   Монтаж приборов                Монтаж   \n",
              "8                               NaN                   NaN   \n",
              "9                               ПНР                   ПНР   \n",
              "10                  Погружение свай           Монтаж свай   \n",
              "11                              NaN                   NaN   \n",
              "12  Испытания системы водоснабжения      Испытания систем   \n",
              "13                        Монтаж мк             Монтаж мк   \n",
              "14                              NaN                   NaN   \n",
              "\n",
              "                                 upper_works  \n",
              "0                                        NaN  \n",
              "1   ('Подготовка свай', 'Монтаж ограждения')  \n",
              "2                                        NaN  \n",
              "3                                        NaN  \n",
              "4                                        NaN  \n",
              "5                                        NaN  \n",
              "6                                        NaN  \n",
              "7                                        NaN  \n",
              "8                                        NaN  \n",
              "9                                        NaN  \n",
              "10                                       NaN  \n",
              "11                                       NaN  \n",
              "12                                       NaN  \n",
              "13  ('Подготовка свай', 'Монтаж ограждения')  \n",
              "14                                       NaN  "
            ]
          },
          "execution_count": 3,
          "metadata": {},
          "output_type": "execute_result"
        }
      ],
      "source": [
        "# data_path = '/content/drive/MyDrive/MLID/lab2_oil_gas_field_construction_data.csv'\n",
        "data_path = 'lab2_oil_gas_field_construction_data.csv'\n",
        "data = pd.read_csv(data_path, sep=',')\n",
        "data.head(15)"
      ]
    },
    {
      "cell_type": "code",
      "execution_count": 4,
      "metadata": {
        "colab": {
          "base_uri": "https://localhost:8080/"
        },
        "id": "2bxIKcgK_Izo",
        "outputId": "340ff823-4f7a-457f-e4ab-393e15e054d4"
      },
      "outputs": [
        {
          "data": {
            "text/plain": [
              "(716067, 4)"
            ]
          },
          "execution_count": 4,
          "metadata": {},
          "output_type": "execute_result"
        }
      ],
      "source": [
        "data.shape"
      ]
    },
    {
      "cell_type": "code",
      "execution_count": 5,
      "metadata": {
        "id": "JDBzJJn1NFgE"
      },
      "outputs": [],
      "source": [
        "def cleaning(text):\n",
        "    text = re.sub('\\W+', ' ', text)\n",
        "    text = re.sub('[0-9]+', '', text)\n",
        "\n",
        "    text = re.split('\\W+', text.lower().strip())\n",
        "\n",
        "    sn_stemmer = nltk.SnowballStemmer('russian')\n",
        "    text = [sn_stemmer.stem(word) for word in text]\n",
        "\n",
        "    text = ' '.join(text)\n",
        "    return text"
      ]
    },
    {
      "cell_type": "code",
      "execution_count": 6,
      "metadata": {
        "colab": {
          "base_uri": "https://localhost:8080/",
          "height": 380
        },
        "id": "5Y4vnzRi5fo5",
        "outputId": "85082aef-46c6-40aa-933d-1933888a110b"
      },
      "outputs": [
        {
          "name": "stdout",
          "output_type": "stream",
          "text": [
            "(296858, 4)\n"
          ]
        },
        {
          "data": {
            "text/html": [
              "<div>\n",
              "<style scoped>\n",
              "    .dataframe tbody tr th:only-of-type {\n",
              "        vertical-align: middle;\n",
              "    }\n",
              "\n",
              "    .dataframe tbody tr th {\n",
              "        vertical-align: top;\n",
              "    }\n",
              "\n",
              "    .dataframe thead th {\n",
              "        text-align: right;\n",
              "    }\n",
              "</style>\n",
              "<table border=\"1\" class=\"dataframe\">\n",
              "  <thead>\n",
              "    <tr style=\"text-align: right;\">\n",
              "      <th></th>\n",
              "      <th>work_name</th>\n",
              "      <th>generalized_work_class</th>\n",
              "      <th>global_work_class</th>\n",
              "      <th>upper_works</th>\n",
              "    </tr>\n",
              "  </thead>\n",
              "  <tbody>\n",
              "    <tr>\n",
              "      <th>3</th>\n",
              "      <td>монтад лестниц</td>\n",
              "      <td>монтаж лестниц</td>\n",
              "      <td>строительство зданий</td>\n",
              "      <td>NaN</td>\n",
              "    </tr>\n",
              "    <tr>\n",
              "      <th>7</th>\n",
              "      <td>кип</td>\n",
              "      <td>монтаж приборов</td>\n",
              "      <td>монтаж</td>\n",
              "      <td>NaN</td>\n",
              "    </tr>\n",
              "    <tr>\n",
              "      <th>9</th>\n",
              "      <td>электромонтажн работ</td>\n",
              "      <td>пнр</td>\n",
              "      <td>пнр</td>\n",
              "      <td>NaN</td>\n",
              "    </tr>\n",
              "    <tr>\n",
              "      <th>10</th>\n",
              "      <td>погружен сва св хх</td>\n",
              "      <td>погружение свай</td>\n",
              "      <td>монтаж свай</td>\n",
              "      <td>NaN</td>\n",
              "    </tr>\n",
              "    <tr>\n",
              "      <th>12</th>\n",
              "      <td>монтаж систем вк</td>\n",
              "      <td>испытания системы водоснабжения</td>\n",
              "      <td>испытания систем</td>\n",
              "      <td>NaN</td>\n",
              "    </tr>\n",
              "    <tr>\n",
              "      <th>13</th>\n",
              "      <td>монтаж стоек</td>\n",
              "      <td>монтаж мк</td>\n",
              "      <td>монтаж мк</td>\n",
              "      <td>('Подготовка свай', 'Монтаж ограждения')</td>\n",
              "    </tr>\n",
              "    <tr>\n",
              "      <th>15</th>\n",
              "      <td>монтаж балок под эстакад</td>\n",
              "      <td>монтаж мк</td>\n",
              "      <td>монтаж мк</td>\n",
              "      <td>NaN</td>\n",
              "    </tr>\n",
              "    <tr>\n",
              "      <th>16</th>\n",
              "      <td>монтаж стоек</td>\n",
              "      <td>монтаж мк</td>\n",
              "      <td>монтаж мк</td>\n",
              "      <td>('Подготовка свай', 'Монтаж ограждения')</td>\n",
              "    </tr>\n",
              "    <tr>\n",
              "      <th>17</th>\n",
              "      <td>погружен сва</td>\n",
              "      <td>погружение свай</td>\n",
              "      <td>монтаж свай</td>\n",
              "      <td>('Подготовка свай', 'Монтаж ограждения')</td>\n",
              "    </tr>\n",
              "    <tr>\n",
              "      <th>20</th>\n",
              "      <td>монтаж балок под эстакад</td>\n",
              "      <td>монтаж мк</td>\n",
              "      <td>монтаж мк</td>\n",
              "      <td>NaN</td>\n",
              "    </tr>\n",
              "  </tbody>\n",
              "</table>\n",
              "</div>"
            ],
            "text/plain": [
              "                   work_name           generalized_work_class  \\\n",
              "3             монтад лестниц                   монтаж лестниц   \n",
              "7                        кип                  монтаж приборов   \n",
              "9       электромонтажн работ                              пнр   \n",
              "10        погружен сва св хх                  погружение свай   \n",
              "12          монтаж систем вк  испытания системы водоснабжения   \n",
              "13              монтаж стоек                        монтаж мк   \n",
              "15  монтаж балок под эстакад                        монтаж мк   \n",
              "16              монтаж стоек                        монтаж мк   \n",
              "17              погружен сва                  погружение свай   \n",
              "20  монтаж балок под эстакад                        монтаж мк   \n",
              "\n",
              "       global_work_class                               upper_works  \n",
              "3   строительство зданий                                       NaN  \n",
              "7                 монтаж                                       NaN  \n",
              "9                    пнр                                       NaN  \n",
              "10           монтаж свай                                       NaN  \n",
              "12      испытания систем                                       NaN  \n",
              "13             монтаж мк  ('Подготовка свай', 'Монтаж ограждения')  \n",
              "15             монтаж мк                                       NaN  \n",
              "16             монтаж мк  ('Подготовка свай', 'Монтаж ограждения')  \n",
              "17           монтаж свай  ('Подготовка свай', 'Монтаж ограждения')  \n",
              "20             монтаж мк                                       NaN  "
            ]
          },
          "metadata": {},
          "output_type": "display_data"
        }
      ],
      "source": [
        "data_cleaned = data[~data['generalized_work_class'].isna()]\n",
        "\n",
        "data_cleaned['generalized_work_class'] = data_cleaned.apply(lambda x: x['generalized_work_class'].lower(), axis=1)\n",
        "data_cleaned['global_work_class'] = data_cleaned.apply(lambda x: x['global_work_class'].lower(), axis=1)\n",
        "data_cleaned['work_name'] = data_cleaned.apply(lambda x: cleaning(x['work_name']), axis=1)\n",
        "\n",
        "print(data_cleaned.shape)\n",
        "display(data_cleaned.head(10))"
      ]
    },
    {
      "cell_type": "code",
      "execution_count": 9,
      "metadata": {
        "colab": {
          "base_uri": "https://localhost:8080/",
          "height": 175
        },
        "id": "FMRxpg6W-Ykz",
        "outputId": "2388a72e-7daf-493a-9997-a1fcaf129a25"
      },
      "outputs": [
        {
          "data": {
            "text/html": [
              "<div>\n",
              "<style scoped>\n",
              "    .dataframe tbody tr th:only-of-type {\n",
              "        vertical-align: middle;\n",
              "    }\n",
              "\n",
              "    .dataframe tbody tr th {\n",
              "        vertical-align: top;\n",
              "    }\n",
              "\n",
              "    .dataframe thead th {\n",
              "        text-align: right;\n",
              "    }\n",
              "</style>\n",
              "<table border=\"1\" class=\"dataframe\">\n",
              "  <thead>\n",
              "    <tr style=\"text-align: right;\">\n",
              "      <th></th>\n",
              "      <th>work_name</th>\n",
              "      <th>generalized_work_class</th>\n",
              "      <th>global_work_class</th>\n",
              "      <th>upper_works</th>\n",
              "    </tr>\n",
              "  </thead>\n",
              "  <tbody>\n",
              "    <tr>\n",
              "      <th>count</th>\n",
              "      <td>296858</td>\n",
              "      <td>296858</td>\n",
              "      <td>296858</td>\n",
              "      <td>14361</td>\n",
              "    </tr>\n",
              "    <tr>\n",
              "      <th>unique</th>\n",
              "      <td>8292</td>\n",
              "      <td>207</td>\n",
              "      <td>56</td>\n",
              "      <td>5</td>\n",
              "    </tr>\n",
              "    <tr>\n",
              "      <th>top</th>\n",
              "      <td>пнр</td>\n",
              "      <td>монтаж мк</td>\n",
              "      <td>монтаж</td>\n",
              "      <td>('Подготовка свай', 'Монтаж ограждения')</td>\n",
              "    </tr>\n",
              "    <tr>\n",
              "      <th>freq</th>\n",
              "      <td>7498</td>\n",
              "      <td>26081</td>\n",
              "      <td>38286</td>\n",
              "      <td>14222</td>\n",
              "    </tr>\n",
              "  </tbody>\n",
              "</table>\n",
              "</div>"
            ],
            "text/plain": [
              "       work_name generalized_work_class global_work_class  \\\n",
              "count     296858                 296858            296858   \n",
              "unique      8292                    207                56   \n",
              "top          пнр              монтаж мк            монтаж   \n",
              "freq        7498                  26081             38286   \n",
              "\n",
              "                                     upper_works  \n",
              "count                                      14361  \n",
              "unique                                         5  \n",
              "top     ('Подготовка свай', 'Монтаж ограждения')  \n",
              "freq                                       14222  "
            ]
          },
          "execution_count": 9,
          "metadata": {},
          "output_type": "execute_result"
        }
      ],
      "source": [
        "data_cleaned.describe()"
      ]
    },
    {
      "cell_type": "code",
      "execution_count": 7,
      "metadata": {
        "colab": {
          "base_uri": "https://localhost:8080/"
        },
        "id": "TXeA1dmu_O3v",
        "outputId": "b2e17ebc-941d-415d-f10f-1a38dc9407a0"
      },
      "outputs": [
        {
          "data": {
            "text/plain": [
              "count      207.000000\n",
              "mean      1434.096618\n",
              "std       3634.316107\n",
              "min          1.000000\n",
              "25%         24.500000\n",
              "50%        106.000000\n",
              "75%        786.000000\n",
              "max      26081.000000\n",
              "Name: generalized_work_class, dtype: float64"
            ]
          },
          "execution_count": 7,
          "metadata": {},
          "output_type": "execute_result"
        }
      ],
      "source": [
        "# investigate gen_work_classes\n",
        "tmp_df = data_cleaned.groupby('generalized_work_class')['generalized_work_class'].count()\n",
        "tmp_df.describe()"
      ]
    },
    {
      "cell_type": "code",
      "execution_count": 8,
      "metadata": {
        "colab": {
          "base_uri": "https://localhost:8080/"
        },
        "id": "nwYCePex_O6M",
        "outputId": "3d95c75e-5178-487a-85df-c78b0f6f2f68"
      },
      "outputs": [
        {
          "data": {
            "text/plain": [
              "generalized_work_class\n",
              "монтаж мк               26081\n",
              "монтаж кабеля           21547\n",
              "монтаж трубопровода     20943\n",
              "погружение свай         16096\n",
              "акз свай                13918\n",
              "пнр                     12937\n",
              "обратная засыпка        11258\n",
              "разработка грунта       10577\n",
              "монтаж теплоизоляции     9319\n",
              "акз трубопровода         9154\n",
              "Name: generalized_work_class, dtype: int64"
            ]
          },
          "execution_count": 8,
          "metadata": {},
          "output_type": "execute_result"
        }
      ],
      "source": [
        "tmp_df.sort_values(ascending=False).head(10)"
      ]
    },
    {
      "cell_type": "code",
      "execution_count": 10,
      "metadata": {
        "colab": {
          "base_uri": "https://localhost:8080/"
        },
        "id": "egeNh9cy_O8e",
        "outputId": "83aca5fe-f329-4c6c-efd7-790ca9d7ff79"
      },
      "outputs": [
        {
          "data": {
            "text/plain": [
              "count       56.000000\n",
              "mean      5301.035714\n",
              "std       8561.257900\n",
              "min          2.000000\n",
              "25%         79.250000\n",
              "50%        648.500000\n",
              "75%       7862.750000\n",
              "max      38286.000000\n",
              "Name: global_work_class, dtype: float64"
            ]
          },
          "execution_count": 10,
          "metadata": {},
          "output_type": "execute_result"
        }
      ],
      "source": [
        "# investigate glob_work_classes\n",
        "tmp_glob_df = data_cleaned.groupby('global_work_class')['global_work_class'].count()\n",
        "tmp_glob_df.describe()"
      ]
    },
    {
      "cell_type": "code",
      "execution_count": 11,
      "metadata": {
        "colab": {
          "base_uri": "https://localhost:8080/"
        },
        "id": "V-ps48v-JtIo",
        "outputId": "db5faa5e-c2c9-42db-d9b1-0c66c0a4c333"
      },
      "outputs": [
        {
          "data": {
            "text/plain": [
              "global_work_class\n",
              "монтаж                    38286\n",
              "монтаж мк                 26081\n",
              "монтаж электрики          24826\n",
              "акз                       24045\n",
              "монтаж свай               23612\n",
              "прокладка трубопровода    22604\n",
              "засыпка                   15536\n",
              "пнр                       12937\n",
              "изготовление              11185\n",
              "разработка грунта         11036\n",
              "Name: global_work_class, dtype: int64"
            ]
          },
          "execution_count": 11,
          "metadata": {},
          "output_type": "execute_result"
        }
      ],
      "source": [
        "tmp_glob_df.sort_values(ascending=False).head(10)"
      ]
    },
    {
      "cell_type": "code",
      "execution_count": 12,
      "metadata": {
        "colab": {
          "base_uri": "https://localhost:8080/"
        },
        "id": "5IF92QbQJ2QO",
        "outputId": "38d46082-6f8e-403c-b1e8-579855457f71"
      },
      "outputs": [
        {
          "data": {
            "text/plain": [
              "count        5.000000\n",
              "mean      2872.200000\n",
              "std       6344.821408\n",
              "min          1.000000\n",
              "25%          2.000000\n",
              "50%         59.000000\n",
              "75%         77.000000\n",
              "max      14222.000000\n",
              "Name: upper_works, dtype: float64"
            ]
          },
          "execution_count": 12,
          "metadata": {},
          "output_type": "execute_result"
        }
      ],
      "source": [
        "# investigate upper_classes\n",
        "tmp_up_df = data_cleaned.groupby('upper_works')['upper_works'].count()\n",
        "tmp_up_df.describe()"
      ]
    },
    {
      "cell_type": "code",
      "execution_count": 13,
      "metadata": {
        "colab": {
          "base_uri": "https://localhost:8080/"
        },
        "id": "O3zv0yCNJ2S6",
        "outputId": "812231e7-d426-4416-a3b6-23188dff1ffc"
      },
      "outputs": [
        {
          "data": {
            "text/plain": [
              "upper_works\n",
              "('Подготовка свай', 'Монтаж ограждения')                     14222\n",
              "()                                                              77\n",
              "('Устройство свайного основания',)                              59\n",
              "('КР-8 Замена теплообменной камеры печи блочной ПТБ №4',)        2\n",
              "('Монтаж  мачт (№ 53,60)',)                                      1\n",
              "Name: upper_works, dtype: int64"
            ]
          },
          "execution_count": 13,
          "metadata": {},
          "output_type": "execute_result"
        }
      ],
      "source": [
        "tmp_up_df.sort_values(ascending=False).head(10)"
      ]
    },
    {
      "cell_type": "markdown",
      "metadata": {
        "id": "skitFGzo7hQu"
      },
      "source": [
        "# BERT"
      ]
    },
    {
      "cell_type": "code",
      "execution_count": 17,
      "metadata": {
        "colab": {
          "base_uri": "https://localhost:8080/",
          "height": 206
        },
        "id": "DwpsT4yd8VB_",
        "outputId": "e37e7a75-8d5a-4330-d6ef-cac21c7c44ba"
      },
      "outputs": [
        {
          "data": {
            "text/html": [
              "<div>\n",
              "<style scoped>\n",
              "    .dataframe tbody tr th:only-of-type {\n",
              "        vertical-align: middle;\n",
              "    }\n",
              "\n",
              "    .dataframe tbody tr th {\n",
              "        vertical-align: top;\n",
              "    }\n",
              "\n",
              "    .dataframe thead th {\n",
              "        text-align: right;\n",
              "    }\n",
              "</style>\n",
              "<table border=\"1\" class=\"dataframe\">\n",
              "  <thead>\n",
              "    <tr style=\"text-align: right;\">\n",
              "      <th></th>\n",
              "      <th>generalized_work_class</th>\n",
              "      <th>gwc_id</th>\n",
              "    </tr>\n",
              "  </thead>\n",
              "  <tbody>\n",
              "    <tr>\n",
              "      <th>0</th>\n",
              "      <td>автоматизация, монтаж</td>\n",
              "      <td>0</td>\n",
              "    </tr>\n",
              "    <tr>\n",
              "      <th>1</th>\n",
              "      <td>акз мк</td>\n",
              "      <td>1</td>\n",
              "    </tr>\n",
              "    <tr>\n",
              "      <th>2</th>\n",
              "      <td>акз резервуара</td>\n",
              "      <td>2</td>\n",
              "    </tr>\n",
              "    <tr>\n",
              "      <th>3</th>\n",
              "      <td>акз свай</td>\n",
              "      <td>3</td>\n",
              "    </tr>\n",
              "    <tr>\n",
              "      <th>4</th>\n",
              "      <td>акз трубопровода</td>\n",
              "      <td>4</td>\n",
              "    </tr>\n",
              "  </tbody>\n",
              "</table>\n",
              "</div>"
            ],
            "text/plain": [
              "  generalized_work_class  gwc_id\n",
              "0  автоматизация, монтаж       0\n",
              "1                 акз мк       1\n",
              "2         акз резервуара       2\n",
              "3               акз свай       3\n",
              "4       акз трубопровода       4"
            ]
          },
          "execution_count": 17,
          "metadata": {},
          "output_type": "execute_result"
        }
      ],
      "source": [
        "gwc_ids_df = pd.DataFrame({'generalized_work_class': data_cleaned['generalized_work_class'].unique()}) \\\n",
        "  .sort_values('generalized_work_class') \\\n",
        "  .reset_index(drop=True) \\\n",
        "  .assign(gwc_id = lambda df: df.index)\n",
        "\n",
        "gwc_ids_df.head()"
      ]
    },
    {
      "cell_type": "code",
      "execution_count": 20,
      "metadata": {
        "colab": {
          "base_uri": "https://localhost:8080/",
          "height": 206
        },
        "id": "bHyRClBj-0Op",
        "outputId": "a312eca9-1a90-4ccc-89d9-17407ce806c1"
      },
      "outputs": [
        {
          "data": {
            "text/html": [
              "<div>\n",
              "<style scoped>\n",
              "    .dataframe tbody tr th:only-of-type {\n",
              "        vertical-align: middle;\n",
              "    }\n",
              "\n",
              "    .dataframe tbody tr th {\n",
              "        vertical-align: top;\n",
              "    }\n",
              "\n",
              "    .dataframe thead th {\n",
              "        text-align: right;\n",
              "    }\n",
              "</style>\n",
              "<table border=\"1\" class=\"dataframe\">\n",
              "  <thead>\n",
              "    <tr style=\"text-align: right;\">\n",
              "      <th></th>\n",
              "      <th>work_name</th>\n",
              "      <th>generalized_work_class</th>\n",
              "      <th>global_work_class</th>\n",
              "      <th>upper_works</th>\n",
              "      <th>gwc_id</th>\n",
              "    </tr>\n",
              "  </thead>\n",
              "  <tbody>\n",
              "    <tr>\n",
              "      <th>0</th>\n",
              "      <td>монтад лестниц</td>\n",
              "      <td>монтаж лестниц</td>\n",
              "      <td>строительство зданий</td>\n",
              "      <td>NaN</td>\n",
              "      <td>130</td>\n",
              "    </tr>\n",
              "    <tr>\n",
              "      <th>1</th>\n",
              "      <td>монтад лестниц</td>\n",
              "      <td>монтаж лестниц</td>\n",
              "      <td>строительство зданий</td>\n",
              "      <td>NaN</td>\n",
              "      <td>130</td>\n",
              "    </tr>\n",
              "    <tr>\n",
              "      <th>2</th>\n",
              "      <td>монтад лестниц</td>\n",
              "      <td>монтаж лестниц</td>\n",
              "      <td>строительство зданий</td>\n",
              "      <td>NaN</td>\n",
              "      <td>130</td>\n",
              "    </tr>\n",
              "    <tr>\n",
              "      <th>3</th>\n",
              "      <td>монтаж лестниц</td>\n",
              "      <td>монтаж лестниц</td>\n",
              "      <td>строительство зданий</td>\n",
              "      <td>NaN</td>\n",
              "      <td>130</td>\n",
              "    </tr>\n",
              "    <tr>\n",
              "      <th>4</th>\n",
              "      <td>монтаж лестниц</td>\n",
              "      <td>монтаж лестниц</td>\n",
              "      <td>строительство зданий</td>\n",
              "      <td>NaN</td>\n",
              "      <td>130</td>\n",
              "    </tr>\n",
              "  </tbody>\n",
              "</table>\n",
              "</div>"
            ],
            "text/plain": [
              "        work_name generalized_work_class     global_work_class upper_works  \\\n",
              "0  монтад лестниц         монтаж лестниц  строительство зданий         NaN   \n",
              "1  монтад лестниц         монтаж лестниц  строительство зданий         NaN   \n",
              "2  монтад лестниц         монтаж лестниц  строительство зданий         NaN   \n",
              "3  монтаж лестниц         монтаж лестниц  строительство зданий         NaN   \n",
              "4  монтаж лестниц         монтаж лестниц  строительство зданий         NaN   \n",
              "\n",
              "   gwc_id  \n",
              "0     130  \n",
              "1     130  \n",
              "2     130  \n",
              "3     130  \n",
              "4     130  "
            ]
          },
          "execution_count": 20,
          "metadata": {},
          "output_type": "execute_result"
        }
      ],
      "source": [
        "data_cleaned_ids = pd.merge(data_cleaned, gwc_ids_df, on='generalized_work_class')\n",
        "data_cleaned_ids.head(5)"
      ]
    },
    {
      "cell_type": "code",
      "execution_count": 21,
      "metadata": {
        "id": "QqV2HYTb_emJ"
      },
      "outputs": [],
      "source": [
        "num_classes = len(data_cleaned_ids['gwc_id'].unique())"
      ]
    },
    {
      "cell_type": "markdown",
      "metadata": {
        "id": "SN5pbp3cQ3qQ"
      },
      "source": [
        "### Train and test data preparation"
      ]
    },
    {
      "cell_type": "code",
      "execution_count": 22,
      "metadata": {
        "id": "E5xvX5AX7gxa"
      },
      "outputs": [],
      "source": [
        "import tensorflow as tf\n",
        "from sklearn.model_selection import train_test_split\n",
        "\n",
        "y = tf.keras.utils.to_categorical(data_cleaned_ids['gwc_id'].values, num_classes=num_classes)\n",
        "x_train, x_test, y_train, y_test = train_test_split(data_cleaned_ids['work_name'], y, test_size=0.25)"
      ]
    },
    {
      "cell_type": "code",
      "execution_count": 26,
      "metadata": {
        "colab": {
          "base_uri": "https://localhost:8080/"
        },
        "id": "y-Ni_HtD7tCS",
        "outputId": "d1a9a7af-295c-476d-c643-0dacb2991993"
      },
      "outputs": [
        {
          "name": "stdout",
          "output_type": "stream",
          "text": [
            "Note: you may need to restart the kernel to use updated packages.\n",
            "Requirement already satisfied: tensorflow_hub in c:\\users\\petka\\appdata\\local\\programs\\python\\python39\\lib\\site-packages (0.15.0)\n",
            "Requirement already satisfied: numpy>=1.12.0 in c:\\users\\petka\\appdata\\local\\programs\\python\\python39\\lib\\site-packages (from tensorflow_hub) (1.26.0)\n",
            "Requirement already satisfied: protobuf>=3.19.6 in c:\\users\\petka\\appdata\\local\\programs\\python\\python39\\lib\\site-packages (from tensorflow_hub) (3.19.6)\n"
          ]
        },
        {
          "name": "stderr",
          "output_type": "stream",
          "text": [
            "WARNING: Ignoring invalid distribution -rotobuf (c:\\users\\petka\\appdata\\local\\programs\\python\\python39\\lib\\site-packages)\n",
            "WARNING: Ignoring invalid distribution -rotobuf (c:\\users\\petka\\appdata\\local\\programs\\python\\python39\\lib\\site-packages)\n",
            "\n",
            "[notice] A new release of pip is available: 23.2.1 -> 23.3\n",
            "[notice] To update, run: python.exe -m pip install --upgrade pip\n"
          ]
        },
        {
          "name": "stdout",
          "output_type": "stream",
          "text": [
            "Collecting tensorflow-textNote: you may need to restart the kernel to use updated packages.\n"
          ]
        },
        {
          "name": "stderr",
          "output_type": "stream",
          "text": [
            "WARNING: Ignoring invalid distribution -rotobuf (c:\\users\\petka\\appdata\\local\\programs\\python\\python39\\lib\\site-packages)\n",
            "WARNING: Ignoring invalid distribution -rotobuf (c:\\users\\petka\\appdata\\local\\programs\\python\\python39\\lib\\site-packages)\n",
            "ERROR: Could not install packages due to an OSError: [WinError 5] Отказано в доступе: 'c:\\\\Users\\\\petka\\\\AppData\\\\Local\\\\Programs\\\\Python\\\\Python39\\\\Lib\\\\site-packages\\\\tensorflow\\\\compiler\\\\tf2tensorrt\\\\_pywrap_py_utils.pyd'\n",
            "Consider using the `--user` option or check the permissions.\n",
            "\n",
            "\n",
            "[notice] A new release of pip is available: 23.2.1 -> 23.3\n",
            "[notice] To update, run: python.exe -m pip install --upgrade pip\n"
          ]
        },
        {
          "name": "stdout",
          "output_type": "stream",
          "text": [
            "\n",
            "  Using cached tensorflow_text-2.10.0-cp39-cp39-win_amd64.whl (5.0 MB)\n",
            "Requirement already satisfied: tensorflow-hub>=0.8.0 in c:\\users\\petka\\appdata\\local\\programs\\python\\python39\\lib\\site-packages (from tensorflow-text) (0.15.0)\n",
            "Collecting tensorflow<2.11,>=2.10.0 (from tensorflow-text)\n",
            "  Using cached tensorflow-2.10.1-cp39-cp39-win_amd64.whl (455.9 MB)\n",
            "Requirement already satisfied: absl-py>=1.0.0 in c:\\users\\petka\\appdata\\local\\programs\\python\\python39\\lib\\site-packages (from tensorflow<2.11,>=2.10.0->tensorflow-text) (1.4.0)\n",
            "Requirement already satisfied: astunparse>=1.6.0 in c:\\users\\petka\\appdata\\local\\programs\\python\\python39\\lib\\site-packages (from tensorflow<2.11,>=2.10.0->tensorflow-text) (1.6.3)\n",
            "Requirement already satisfied: flatbuffers>=2.0 in c:\\users\\petka\\appdata\\local\\programs\\python\\python39\\lib\\site-packages (from tensorflow<2.11,>=2.10.0->tensorflow-text) (23.5.26)\n",
            "Requirement already satisfied: gast<=0.4.0,>=0.2.1 in c:\\users\\petka\\appdata\\local\\programs\\python\\python39\\lib\\site-packages (from tensorflow<2.11,>=2.10.0->tensorflow-text) (0.4.0)\n",
            "Requirement already satisfied: google-pasta>=0.1.1 in c:\\users\\petka\\appdata\\local\\programs\\python\\python39\\lib\\site-packages (from tensorflow<2.11,>=2.10.0->tensorflow-text) (0.2.0)\n",
            "Requirement already satisfied: h5py>=2.9.0 in c:\\users\\petka\\appdata\\local\\programs\\python\\python39\\lib\\site-packages (from tensorflow<2.11,>=2.10.0->tensorflow-text) (3.8.0)\n",
            "Collecting keras-preprocessing>=1.1.1 (from tensorflow<2.11,>=2.10.0->tensorflow-text)\n",
            "  Using cached Keras_Preprocessing-1.1.2-py2.py3-none-any.whl (42 kB)\n",
            "Requirement already satisfied: libclang>=13.0.0 in c:\\users\\petka\\appdata\\local\\programs\\python\\python39\\lib\\site-packages (from tensorflow<2.11,>=2.10.0->tensorflow-text) (15.0.6.1)\n",
            "Requirement already satisfied: numpy>=1.20 in c:\\users\\petka\\appdata\\local\\programs\\python\\python39\\lib\\site-packages (from tensorflow<2.11,>=2.10.0->tensorflow-text) (1.26.0)\n",
            "Requirement already satisfied: opt-einsum>=2.3.2 in c:\\users\\petka\\appdata\\local\\programs\\python\\python39\\lib\\site-packages (from tensorflow<2.11,>=2.10.0->tensorflow-text) (3.3.0)\n",
            "Requirement already satisfied: packaging in c:\\users\\petka\\appdata\\roaming\\python\\python39\\site-packages (from tensorflow<2.11,>=2.10.0->tensorflow-text) (23.0)\n",
            "Requirement already satisfied: protobuf<3.20,>=3.9.2 in c:\\users\\petka\\appdata\\local\\programs\\python\\python39\\lib\\site-packages (from tensorflow<2.11,>=2.10.0->tensorflow-text) (3.19.6)\n",
            "Requirement already satisfied: setuptools in c:\\users\\petka\\appdata\\local\\programs\\python\\python39\\lib\\site-packages (from tensorflow<2.11,>=2.10.0->tensorflow-text) (67.7.0)\n",
            "Requirement already satisfied: six>=1.12.0 in c:\\users\\petka\\appdata\\roaming\\python\\python39\\site-packages (from tensorflow<2.11,>=2.10.0->tensorflow-text) (1.16.0)\n",
            "Requirement already satisfied: termcolor>=1.1.0 in c:\\users\\petka\\appdata\\local\\programs\\python\\python39\\lib\\site-packages (from tensorflow<2.11,>=2.10.0->tensorflow-text) (2.2.0)\n",
            "Requirement already satisfied: typing-extensions>=3.6.6 in c:\\users\\petka\\appdata\\roaming\\python\\python39\\site-packages (from tensorflow<2.11,>=2.10.0->tensorflow-text) (4.5.0)\n",
            "Requirement already satisfied: wrapt>=1.11.0 in c:\\users\\petka\\appdata\\local\\programs\\python\\python39\\lib\\site-packages (from tensorflow<2.11,>=2.10.0->tensorflow-text) (1.14.1)\n",
            "Requirement already satisfied: tensorflow-io-gcs-filesystem>=0.23.1 in c:\\users\\petka\\appdata\\local\\programs\\python\\python39\\lib\\site-packages (from tensorflow<2.11,>=2.10.0->tensorflow-text) (0.31.0)\n",
            "Requirement already satisfied: grpcio<2.0,>=1.24.3 in c:\\users\\petka\\appdata\\local\\programs\\python\\python39\\lib\\site-packages (from tensorflow<2.11,>=2.10.0->tensorflow-text) (1.51.3)\n",
            "Collecting tensorboard<2.11,>=2.10 (from tensorflow<2.11,>=2.10.0->tensorflow-text)\n",
            "  Using cached tensorboard-2.10.1-py3-none-any.whl (5.9 MB)\n",
            "Requirement already satisfied: tensorflow-estimator<2.11,>=2.10.0 in c:\\users\\petka\\appdata\\local\\programs\\python\\python39\\lib\\site-packages (from tensorflow<2.11,>=2.10.0->tensorflow-text) (2.10.0)\n",
            "Requirement already satisfied: keras<2.11,>=2.10.0 in c:\\users\\petka\\appdata\\local\\programs\\python\\python39\\lib\\site-packages (from tensorflow<2.11,>=2.10.0->tensorflow-text) (2.10.0)\n",
            "Requirement already satisfied: wheel<1.0,>=0.23.0 in c:\\users\\petka\\appdata\\local\\programs\\python\\python39\\lib\\site-packages (from astunparse>=1.6.0->tensorflow<2.11,>=2.10.0->tensorflow-text) (0.40.0)\n",
            "Requirement already satisfied: google-auth<3,>=1.6.3 in c:\\users\\petka\\appdata\\local\\programs\\python\\python39\\lib\\site-packages (from tensorboard<2.11,>=2.10->tensorflow<2.11,>=2.10.0->tensorflow-text) (2.16.2)\n",
            "Collecting google-auth-oauthlib<0.5,>=0.4.1 (from tensorboard<2.11,>=2.10->tensorflow<2.11,>=2.10.0->tensorflow-text)\n",
            "  Using cached google_auth_oauthlib-0.4.6-py2.py3-none-any.whl (18 kB)\n",
            "Requirement already satisfied: markdown>=2.6.8 in c:\\users\\petka\\appdata\\local\\programs\\python\\python39\\lib\\site-packages (from tensorboard<2.11,>=2.10->tensorflow<2.11,>=2.10.0->tensorflow-text) (3.4.1)\n",
            "Requirement already satisfied: requests<3,>=2.21.0 in c:\\users\\petka\\appdata\\local\\programs\\python\\python39\\lib\\site-packages (from tensorboard<2.11,>=2.10->tensorflow<2.11,>=2.10.0->tensorflow-text) (2.28.1)\n",
            "Requirement already satisfied: tensorboard-data-server<0.7.0,>=0.6.0 in c:\\users\\petka\\appdata\\local\\programs\\python\\python39\\lib\\site-packages (from tensorboard<2.11,>=2.10->tensorflow<2.11,>=2.10.0->tensorflow-text) (0.6.1)\n",
            "Requirement already satisfied: tensorboard-plugin-wit>=1.6.0 in c:\\users\\petka\\appdata\\local\\programs\\python\\python39\\lib\\site-packages (from tensorboard<2.11,>=2.10->tensorflow<2.11,>=2.10.0->tensorflow-text) (1.8.1)\n",
            "Requirement already satisfied: werkzeug>=1.0.1 in c:\\users\\petka\\appdata\\local\\programs\\python\\python39\\lib\\site-packages (from tensorboard<2.11,>=2.10->tensorflow<2.11,>=2.10.0->tensorflow-text) (2.2.3)\n",
            "Requirement already satisfied: cachetools<6.0,>=2.0.0 in c:\\users\\petka\\appdata\\local\\programs\\python\\python39\\lib\\site-packages (from google-auth<3,>=1.6.3->tensorboard<2.11,>=2.10->tensorflow<2.11,>=2.10.0->tensorflow-text) (5.3.0)\n",
            "Requirement already satisfied: pyasn1-modules>=0.2.1 in c:\\users\\petka\\appdata\\local\\programs\\python\\python39\\lib\\site-packages (from google-auth<3,>=1.6.3->tensorboard<2.11,>=2.10->tensorflow<2.11,>=2.10.0->tensorflow-text) (0.2.8)\n",
            "Requirement already satisfied: rsa<5,>=3.1.4 in c:\\users\\petka\\appdata\\local\\programs\\python\\python39\\lib\\site-packages (from google-auth<3,>=1.6.3->tensorboard<2.11,>=2.10->tensorflow<2.11,>=2.10.0->tensorflow-text) (4.9)\n",
            "Requirement already satisfied: requests-oauthlib>=0.7.0 in c:\\users\\petka\\appdata\\local\\programs\\python\\python39\\lib\\site-packages (from google-auth-oauthlib<0.5,>=0.4.1->tensorboard<2.11,>=2.10->tensorflow<2.11,>=2.10.0->tensorflow-text) (1.3.1)\n",
            "Requirement already satisfied: importlib-metadata>=4.4 in c:\\users\\petka\\appdata\\roaming\\python\\python39\\site-packages (from markdown>=2.6.8->tensorboard<2.11,>=2.10->tensorflow<2.11,>=2.10.0->tensorflow-text) (6.3.0)\n",
            "Requirement already satisfied: charset-normalizer<3,>=2 in c:\\users\\petka\\appdata\\local\\programs\\python\\python39\\lib\\site-packages (from requests<3,>=2.21.0->tensorboard<2.11,>=2.10->tensorflow<2.11,>=2.10.0->tensorflow-text) (2.1.1)\n",
            "Requirement already satisfied: idna<4,>=2.5 in c:\\users\\petka\\appdata\\local\\programs\\python\\python39\\lib\\site-packages (from requests<3,>=2.21.0->tensorboard<2.11,>=2.10->tensorflow<2.11,>=2.10.0->tensorflow-text) (3.4)\n",
            "Requirement already satisfied: urllib3<1.27,>=1.21.1 in c:\\users\\petka\\appdata\\local\\programs\\python\\python39\\lib\\site-packages (from requests<3,>=2.21.0->tensorboard<2.11,>=2.10->tensorflow<2.11,>=2.10.0->tensorflow-text) (1.26.13)\n",
            "Requirement already satisfied: certifi>=2017.4.17 in c:\\users\\petka\\appdata\\local\\programs\\python\\python39\\lib\\site-packages (from requests<3,>=2.21.0->tensorboard<2.11,>=2.10->tensorflow<2.11,>=2.10.0->tensorflow-text) (2022.9.24)\n",
            "Requirement already satisfied: MarkupSafe>=2.1.1 in c:\\users\\petka\\appdata\\local\\programs\\python\\python39\\lib\\site-packages (from werkzeug>=1.0.1->tensorboard<2.11,>=2.10->tensorflow<2.11,>=2.10.0->tensorflow-text) (2.1.1)\n",
            "Requirement already satisfied: zipp>=0.5 in c:\\users\\petka\\appdata\\roaming\\python\\python39\\site-packages (from importlib-metadata>=4.4->markdown>=2.6.8->tensorboard<2.11,>=2.10->tensorflow<2.11,>=2.10.0->tensorflow-text) (3.15.0)\n",
            "Requirement already satisfied: pyasn1<0.5.0,>=0.4.6 in c:\\users\\petka\\appdata\\local\\programs\\python\\python39\\lib\\site-packages (from pyasn1-modules>=0.2.1->google-auth<3,>=1.6.3->tensorboard<2.11,>=2.10->tensorflow<2.11,>=2.10.0->tensorflow-text) (0.4.8)\n",
            "Requirement already satisfied: oauthlib>=3.0.0 in c:\\users\\petka\\appdata\\local\\programs\\python\\python39\\lib\\site-packages (from requests-oauthlib>=0.7.0->google-auth-oauthlib<0.5,>=0.4.1->tensorboard<2.11,>=2.10->tensorflow<2.11,>=2.10.0->tensorflow-text) (3.2.2)\n",
            "Installing collected packages: keras-preprocessing, google-auth-oauthlib, tensorboard, tensorflow, tensorflow-text\n",
            "  Attempting uninstall: google-auth-oauthlib\n",
            "    Found existing installation: google-auth-oauthlib 1.0.0\n",
            "    Uninstalling google-auth-oauthlib-1.0.0:\n",
            "      Successfully uninstalled google-auth-oauthlib-1.0.0\n",
            "  Attempting uninstall: tensorboard\n",
            "    Found existing installation: tensorboard 2.14.1\n",
            "    Uninstalling tensorboard-2.14.1:\n",
            "      Successfully uninstalled tensorboard-2.14.1\n",
            "  Attempting uninstall: tensorflow\n",
            "    Found existing installation: tensorflow 2.14.0\n",
            "    Uninstalling tensorflow-2.14.0:\n",
            "      Successfully uninstalled tensorflow-2.14.0\n",
            "  Rolling back uninstall of tensorflow\n",
            "  Moving to c:\\users\\petka\\appdata\\local\\programs\\python\\python39\\lib\\site-packages\\tensorflow-2.14.0.dist-info\\\n",
            "   from C:\\Users\\petka\\AppData\\Local\\Programs\\Python\\Python39\\Lib\\site-packages\\~ensorflow-2.14.0.dist-info\n"
          ]
        }
      ],
      "source": [
        "# %pip install tensorflow_hub\n",
        "# %pip install tensorflow-text"
      ]
    },
    {
      "cell_type": "code",
      "execution_count": null,
      "metadata": {
        "id": "2LyLhaf47vNe"
      },
      "outputs": [],
      "source": [
        "import tensorflow as tf\n",
        "import tensorflow_hub as hub\n",
        "import tensorflow_text\n",
        "\n",
        "preprocessor = hub.KerasLayer('https://tfhub.dev/google/universal-sentence-encoder-cmlm/multilingual-preprocess/2')\n",
        "encoder = hub.KerasLayer('https://tfhub.dev/google/universal-sentence-encoder-cmlm/multilingual-base/1')"
      ]
    },
    {
      "cell_type": "code",
      "execution_count": null,
      "metadata": {
        "id": "wdC6s3av70Dl"
      },
      "outputs": [],
      "source": [
        "i = tf.keras.layers.Input(shape=(), dtype=tf.string, name='text')\n",
        "x = preprocessor(i)\n",
        "x = encoder(x)\n",
        "x = tf.keras.layers.Dropout(0.2, name=\"dropout\")(x['pooled_output'])\n",
        "x = tf.keras.layers.Dense(num_classes, activation='softmax', name=\"output\")(x)\n",
        "\n",
        "with tf.device(\"/GPU:0\"):\n",
        "  model = tf.keras.Model(i, x)"
      ]
    },
    {
      "cell_type": "code",
      "execution_count": null,
      "metadata": {
        "id": "DTdozJjy724f"
      },
      "outputs": [],
      "source": [
        "from keras import backend as K\n",
        "\n",
        "def balanced_recall(y_true, y_pred):\n",
        "    \"\"\"This function calculates the balanced recall metric\n",
        "    recall = TP / (TP + FN)\n",
        "    \"\"\"\n",
        "    recall_by_class = 0\n",
        "    # iterate over each predicted class to get class-specific metric\n",
        "    for i in range(y_pred.shape[1]):\n",
        "        y_pred_class = y_pred[:, i]\n",
        "        y_true_class = y_true[:, i]\n",
        "        true_positives = K.sum(K.round(K.clip(y_true_class * y_pred_class, 0, 1)))\n",
        "        possible_positives = K.sum(K.round(K.clip(y_true_class, 0, 1)))\n",
        "        recall = true_positives / (possible_positives + K.epsilon())\n",
        "        recall_by_class = recall_by_class + recall\n",
        "    return recall_by_class / y_pred.shape[1]\n",
        "\n",
        "def balanced_precision(y_true, y_pred):\n",
        "    \"\"\"This function calculates the balanced precision metric\n",
        "    precision = TP / (TP + FP)\n",
        "    \"\"\"\n",
        "    precision_by_class = 0\n",
        "    # iterate over each predicted class to get class-specific metric\n",
        "    for i in range(y_pred.shape[1]):\n",
        "        y_pred_class = y_pred[:, i]\n",
        "        y_true_class = y_true[:, i]\n",
        "        true_positives = K.sum(K.round(K.clip(y_true_class * y_pred_class, 0, 1)))\n",
        "        predicted_positives = K.sum(K.round(K.clip(y_pred_class, 0, 1)))\n",
        "        precision = true_positives / (predicted_positives + K.epsilon())\n",
        "        precision_by_class = precision_by_class + precision\n",
        "    # return average balanced metric for each class\n",
        "    return precision_by_class / y_pred.shape[1]\n",
        "\n",
        "def balanced_f1_score(y_true, y_pred):\n",
        "    \"\"\"This function calculates the F1 score metric\"\"\"\n",
        "    precision = balanced_precision(y_true, y_pred)\n",
        "    recall = balanced_recall(y_true, y_pred)\n",
        "    return 2 * ((precision * recall) / (precision + recall + K.epsilon()))"
      ]
    },
    {
      "cell_type": "code",
      "execution_count": null,
      "metadata": {
        "id": "Rk4f7Tm-74tE"
      },
      "outputs": [],
      "source": [
        "# Converting x_train into numpy array\n",
        "import numpy as np\n",
        "x_train = np.array([np.array(val) for val in x_train])"
      ]
    },
    {
      "cell_type": "code",
      "execution_count": null,
      "metadata": {
        "colab": {
          "base_uri": "https://localhost:8080/"
        },
        "id": "YbOpkDaS76ga",
        "outputId": "a1f3398a-7d46-4d6a-a11f-7aeae4700046"
      },
      "outputs": [
        {
          "name": "stdout",
          "output_type": "stream",
          "text": [
            "6958/6958 [==============================] - ETA: 0s - loss: 0.1863 - accuracy: 0.9635 - balanced_recall: 0.0942 - balanced_precision: 0.0950 - balanced_f1_score: 0.0946"
          ]
        }
      ],
      "source": [
        "n_epochs = 1\n",
        "\n",
        "METRICS = [\n",
        "      tf.keras.metrics.CategoricalAccuracy(name=\"accuracy\"),\n",
        "      balanced_recall,\n",
        "      balanced_precision,\n",
        "      balanced_f1_score\n",
        "]\n",
        "\n",
        "earlystop_callback = tf.keras.callbacks.EarlyStopping(monitor = \"val_loss\",\n",
        "                                                      patience = 3,\n",
        "                                                      restore_best_weights = True)\n",
        "\n",
        "model.compile(optimizer = \"adam\",\n",
        "              loss = \"categorical_crossentropy\",\n",
        "              metrics = METRICS)\n",
        "\n",
        "# model_fit = model.fit(x_train,\n",
        "#                       y_train,\n",
        "#                       epochs = n_epochs,\n",
        "#                       validation_data = (x_test, y_test),\n",
        "#                       callbacks = [earlystop_callback])"
      ]
    },
    {
      "cell_type": "code",
      "execution_count": null,
      "metadata": {
        "colab": {
          "base_uri": "https://localhost:8080/",
          "height": 331
        },
        "id": "OE1QUjqzFK0A",
        "outputId": "d94c03bb-f852-43ab-c49d-1ad0f02f1ff0"
      },
      "outputs": [],
      "source": [
        "sentences = [\n",
        "    \"монтад лестниц\",\n",
        "    \"кип\",\n",
        "    \"электромонтажн работ\"\n",
        "]\n",
        "\n",
        "def predict_class(sentences):\n",
        "  return [np.argmax(pred) for pred in model.predict(sentences)]\n",
        "\n",
        "predict_class(sentences)"
      ]
    }
  ],
  "metadata": {
    "accelerator": "GPU",
    "colab": {
      "gpuType": "T4",
      "provenance": []
    },
    "kernelspec": {
      "display_name": "Python 3",
      "name": "python3"
    },
    "language_info": {
      "codemirror_mode": {
        "name": "ipython",
        "version": 3
      },
      "file_extension": ".py",
      "mimetype": "text/x-python",
      "name": "python",
      "nbconvert_exporter": "python",
      "pygments_lexer": "ipython3",
      "version": "3.9.13"
    }
  },
  "nbformat": 4,
  "nbformat_minor": 0
}
